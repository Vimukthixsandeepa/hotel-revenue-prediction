{
 "cells": [
  {
   "cell_type": "markdown",
   "id": "b2b40248-6849-4cf0-9b61-fc70393f5b3c",
   "metadata": {},
   "source": [
    "###  Import Data and Required Packages\n",
    "####  Importing Pandas, Numpy, Matplotlib, Seaborn and Warings Library."
   ]
  },
  {
   "cell_type": "code",
   "execution_count": null,
   "id": "a5473d4a-5362-43b0-8bb8-3c119533f691",
   "metadata": {},
   "outputs": [],
   "source": [
    "import pandas as pd"
   ]
  },
  {
   "cell_type": "code",
   "execution_count": 7,
   "id": "d5cfdcc9-7a4a-48f5-953b-c0331e08e818",
   "metadata": {},
   "outputs": [],
   "source": [
    "# Load the dataset\n",
    "df = pd.read_csv(\"../data/raw/Hotel_train.csv\")\n",
    "\n"
   ]
  },
  {
   "cell_type": "markdown",
   "id": "4c054baa-b3f3-486b-acdd-15b464046428",
   "metadata": {},
   "source": [
    "#### Show Top 5 Records"
   ]
  },
  {
   "cell_type": "code",
   "execution_count": 10,
   "id": "180d09fd-bf53-4e06-9be5-3d8d7c380b64",
   "metadata": {},
   "outputs": [
    {
     "data": {
      "text/html": [
       "<div>\n",
       "<style scoped>\n",
       "    .dataframe tbody tr th:only-of-type {\n",
       "        vertical-align: middle;\n",
       "    }\n",
       "\n",
       "    .dataframe tbody tr th {\n",
       "        vertical-align: top;\n",
       "    }\n",
       "\n",
       "    .dataframe thead th {\n",
       "        text-align: right;\n",
       "    }\n",
       "</style>\n",
       "<table border=\"1\" class=\"dataframe\">\n",
       "  <thead>\n",
       "    <tr style=\"text-align: right;\">\n",
       "      <th></th>\n",
       "      <th>Reservation-id</th>\n",
       "      <th>Gender</th>\n",
       "      <th>Age</th>\n",
       "      <th>Ethnicity</th>\n",
       "      <th>Educational_Level</th>\n",
       "      <th>Income</th>\n",
       "      <th>Country_region</th>\n",
       "      <th>Hotel_Type</th>\n",
       "      <th>Expected_checkin</th>\n",
       "      <th>Expected_checkout</th>\n",
       "      <th>...</th>\n",
       "      <th>Meal_Type</th>\n",
       "      <th>Visted_Previously</th>\n",
       "      <th>Previous_Cancellations</th>\n",
       "      <th>Deposit_type</th>\n",
       "      <th>Booking_channel</th>\n",
       "      <th>Required_Car_Parking</th>\n",
       "      <th>Reservation_Status</th>\n",
       "      <th>Use_Promotion</th>\n",
       "      <th>Discount_Rate</th>\n",
       "      <th>Room_Rate</th>\n",
       "    </tr>\n",
       "  </thead>\n",
       "  <tbody>\n",
       "    <tr>\n",
       "      <th>0</th>\n",
       "      <td>39428300</td>\n",
       "      <td>M</td>\n",
       "      <td>40</td>\n",
       "      <td>Latino</td>\n",
       "      <td>High-School</td>\n",
       "      <td>&lt;25K</td>\n",
       "      <td>North</td>\n",
       "      <td>City Hotel</td>\n",
       "      <td>2015-07-01</td>\n",
       "      <td>2015-07-02</td>\n",
       "      <td>...</td>\n",
       "      <td>BB</td>\n",
       "      <td>No</td>\n",
       "      <td>No</td>\n",
       "      <td>No Deposit</td>\n",
       "      <td>Online</td>\n",
       "      <td>Yes</td>\n",
       "      <td>check-out</td>\n",
       "      <td>Yes</td>\n",
       "      <td>0</td>\n",
       "      <td>106.440241</td>\n",
       "    </tr>\n",
       "    <tr>\n",
       "      <th>1</th>\n",
       "      <td>77491756</td>\n",
       "      <td>F</td>\n",
       "      <td>49</td>\n",
       "      <td>African American</td>\n",
       "      <td>High-School</td>\n",
       "      <td>50K -- 100K</td>\n",
       "      <td>East</td>\n",
       "      <td>Airport Hotels</td>\n",
       "      <td>2015-07-01</td>\n",
       "      <td>2015-07-02</td>\n",
       "      <td>...</td>\n",
       "      <td>BB</td>\n",
       "      <td>No</td>\n",
       "      <td>No</td>\n",
       "      <td>Non-Refundable</td>\n",
       "      <td>Online</td>\n",
       "      <td>Yes</td>\n",
       "      <td>check-out</td>\n",
       "      <td>No</td>\n",
       "      <td>0</td>\n",
       "      <td>158.039564</td>\n",
       "    </tr>\n",
       "    <tr>\n",
       "      <th>2</th>\n",
       "      <td>73747291</td>\n",
       "      <td>F</td>\n",
       "      <td>42</td>\n",
       "      <td>caucasian</td>\n",
       "      <td>College</td>\n",
       "      <td>&lt;25K</td>\n",
       "      <td>East</td>\n",
       "      <td>Airport Hotels</td>\n",
       "      <td>2015-07-02</td>\n",
       "      <td>2015-07-06</td>\n",
       "      <td>...</td>\n",
       "      <td>BB</td>\n",
       "      <td>No</td>\n",
       "      <td>No</td>\n",
       "      <td>Refundable</td>\n",
       "      <td>Online</td>\n",
       "      <td>Yes</td>\n",
       "      <td>check-out</td>\n",
       "      <td>No</td>\n",
       "      <td>0</td>\n",
       "      <td>212.610780</td>\n",
       "    </tr>\n",
       "    <tr>\n",
       "      <th>3</th>\n",
       "      <td>67301739</td>\n",
       "      <td>M</td>\n",
       "      <td>25</td>\n",
       "      <td>Latino</td>\n",
       "      <td>High-School</td>\n",
       "      <td>&gt;100K</td>\n",
       "      <td>South</td>\n",
       "      <td>City Hotel</td>\n",
       "      <td>2015-07-02</td>\n",
       "      <td>2015-07-03</td>\n",
       "      <td>...</td>\n",
       "      <td>BB</td>\n",
       "      <td>No</td>\n",
       "      <td>No</td>\n",
       "      <td>No Deposit</td>\n",
       "      <td>Agent</td>\n",
       "      <td>Yes</td>\n",
       "      <td>check-out</td>\n",
       "      <td>Yes</td>\n",
       "      <td>5</td>\n",
       "      <td>106.146407</td>\n",
       "    </tr>\n",
       "    <tr>\n",
       "      <th>4</th>\n",
       "      <td>77222321</td>\n",
       "      <td>F</td>\n",
       "      <td>62</td>\n",
       "      <td>African American</td>\n",
       "      <td>Grad</td>\n",
       "      <td>25K --50K</td>\n",
       "      <td>East</td>\n",
       "      <td>Airport Hotels</td>\n",
       "      <td>2015-07-03</td>\n",
       "      <td>2015-07-04</td>\n",
       "      <td>...</td>\n",
       "      <td>BB</td>\n",
       "      <td>No</td>\n",
       "      <td>No</td>\n",
       "      <td>Refundable</td>\n",
       "      <td>Direct</td>\n",
       "      <td>No</td>\n",
       "      <td>check-out</td>\n",
       "      <td>Yes</td>\n",
       "      <td>10</td>\n",
       "      <td>159.384439</td>\n",
       "    </tr>\n",
       "  </tbody>\n",
       "</table>\n",
       "<p>5 rows × 24 columns</p>\n",
       "</div>"
      ],
      "text/plain": [
       "   Reservation-id Gender  Age         Ethnicity Educational_Level  \\\n",
       "0        39428300      M   40            Latino       High-School   \n",
       "1        77491756      F   49  African American       High-School   \n",
       "2        73747291      F   42         caucasian           College   \n",
       "3        67301739      M   25            Latino       High-School   \n",
       "4        77222321      F   62  African American              Grad   \n",
       "\n",
       "        Income Country_region      Hotel_Type Expected_checkin  \\\n",
       "0         <25K          North      City Hotel       2015-07-01   \n",
       "1  50K -- 100K           East  Airport Hotels       2015-07-01   \n",
       "2         <25K           East  Airport Hotels       2015-07-02   \n",
       "3        >100K          South      City Hotel       2015-07-02   \n",
       "4    25K --50K           East  Airport Hotels       2015-07-03   \n",
       "\n",
       "  Expected_checkout  ... Meal_Type  Visted_Previously  Previous_Cancellations  \\\n",
       "0        2015-07-02  ...        BB                 No                      No   \n",
       "1        2015-07-02  ...        BB                 No                      No   \n",
       "2        2015-07-06  ...        BB                 No                      No   \n",
       "3        2015-07-03  ...        BB                 No                      No   \n",
       "4        2015-07-04  ...        BB                 No                      No   \n",
       "\n",
       "     Deposit_type Booking_channel Required_Car_Parking Reservation_Status  \\\n",
       "0      No Deposit          Online                  Yes          check-out   \n",
       "1  Non-Refundable          Online                  Yes          check-out   \n",
       "2      Refundable          Online                  Yes          check-out   \n",
       "3      No Deposit           Agent                  Yes          check-out   \n",
       "4      Refundable          Direct                   No          check-out   \n",
       "\n",
       "  Use_Promotion Discount_Rate   Room_Rate  \n",
       "0           Yes             0  106.440241  \n",
       "1            No             0  158.039564  \n",
       "2            No             0  212.610780  \n",
       "3           Yes             5  106.146407  \n",
       "4           Yes            10  159.384439  \n",
       "\n",
       "[5 rows x 24 columns]"
      ]
     },
     "execution_count": 10,
     "metadata": {},
     "output_type": "execute_result"
    }
   ],
   "source": [
    "df.head()"
   ]
  },
  {
   "cell_type": "markdown",
   "id": "8cfe81e1-61a7-4367-8111-720982a2658f",
   "metadata": {},
   "source": [
    "#### Shape of the dataset"
   ]
  },
  {
   "cell_type": "code",
   "execution_count": 15,
   "id": "806e86a2-3ba8-40b4-8dda-19ee25873300",
   "metadata": {},
   "outputs": [
    {
     "data": {
      "text/plain": [
       "(27499, 24)"
      ]
     },
     "execution_count": 15,
     "metadata": {},
     "output_type": "execute_result"
    }
   ],
   "source": [
    "df.shape"
   ]
  },
  {
   "cell_type": "markdown",
   "id": "567a59ae-241a-4029-a0f0-b8c4a9c16aea",
   "metadata": {},
   "source": [
    "###  Check Missing values"
   ]
  },
  {
   "cell_type": "code",
   "execution_count": 20,
   "id": "47ba6b04-43c3-42ed-99e5-d831818545a2",
   "metadata": {},
   "outputs": [
    {
     "data": {
      "text/plain": [
       "Reservation-id               0\n",
       "Gender                       0\n",
       "Age                          0\n",
       "Ethnicity                    0\n",
       "Educational_Level            0\n",
       "Income                       0\n",
       "Country_region               0\n",
       "Hotel_Type                   0\n",
       "Expected_checkin             0\n",
       "Expected_checkout            0\n",
       "Booking_date                 0\n",
       "Adults                       0\n",
       "Children                     0\n",
       "Babies                    4755\n",
       "Meal_Type                    0\n",
       "Visted_Previously            0\n",
       "Previous_Cancellations       0\n",
       "Deposit_type                 0\n",
       "Booking_channel              0\n",
       "Required_Car_Parking         0\n",
       "Reservation_Status           0\n",
       "Use_Promotion                0\n",
       "Discount_Rate                0\n",
       "Room_Rate                    0\n",
       "dtype: int64"
      ]
     },
     "execution_count": 20,
     "metadata": {},
     "output_type": "execute_result"
    }
   ],
   "source": [
    "df.isna().sum()"
   ]
  },
  {
   "cell_type": "markdown",
   "id": "084e3ead-97a9-442b-95be-3663aa1b2727",
   "metadata": {},
   "source": [
    "#### hadle missing valus"
   ]
  },
  {
   "cell_type": "code",
   "execution_count": 26,
   "id": "102e6454-abe6-41f8-83c6-e15f60d1066a",
   "metadata": {},
   "outputs": [
    {
     "data": {
      "text/plain": [
       "Reservation-id            0\n",
       "Gender                    0\n",
       "Age                       0\n",
       "Ethnicity                 0\n",
       "Educational_Level         0\n",
       "Income                    0\n",
       "Country_region            0\n",
       "Hotel_Type                0\n",
       "Expected_checkin          0\n",
       "Expected_checkout         0\n",
       "Booking_date              0\n",
       "Adults                    0\n",
       "Children                  0\n",
       "Babies                    0\n",
       "Meal_Type                 0\n",
       "Visted_Previously         0\n",
       "Previous_Cancellations    0\n",
       "Deposit_type              0\n",
       "Booking_channel           0\n",
       "Required_Car_Parking      0\n",
       "Reservation_Status        0\n",
       "Use_Promotion             0\n",
       "Discount_Rate             0\n",
       "Room_Rate                 0\n",
       "dtype: int64"
      ]
     },
     "execution_count": 26,
     "metadata": {},
     "output_type": "execute_result"
    }
   ],
   "source": [
    "df['Babies'] = df['Babies'].fillna(0)  # Assume no babies if missing\n",
    "df.isna().sum()\n"
   ]
  },
  {
   "cell_type": "markdown",
   "id": "0b06c688-6775-49e6-a95a-5f4882c478fc",
   "metadata": {},
   "source": [
    "###  Check Duplicates"
   ]
  },
  {
   "cell_type": "code",
   "execution_count": 29,
   "id": "5093ee70-579e-4b69-aede-07d65f2f5517",
   "metadata": {},
   "outputs": [
    {
     "data": {
      "text/plain": [
       "np.int64(0)"
      ]
     },
     "execution_count": 29,
     "metadata": {},
     "output_type": "execute_result"
    }
   ],
   "source": [
    "df.duplicated().sum()"
   ]
  },
  {
   "cell_type": "markdown",
   "id": "44a58284-ff71-46f0-801e-a307597867c0",
   "metadata": {},
   "source": [
    "#### There are no duplicates  values in the data set"
   ]
  },
  {
   "cell_type": "markdown",
   "id": "4636d657-0904-45d6-b1d5-9daeca925530",
   "metadata": {},
   "source": [
    "###  Check data types"
   ]
  },
  {
   "cell_type": "code",
   "execution_count": 33,
   "id": "c7291ae9-ffd7-446c-87e8-2987c45fc123",
   "metadata": {},
   "outputs": [
    {
     "name": "stdout",
     "output_type": "stream",
     "text": [
      "<class 'pandas.core.frame.DataFrame'>\n",
      "RangeIndex: 27499 entries, 0 to 27498\n",
      "Data columns (total 24 columns):\n",
      " #   Column                  Non-Null Count  Dtype  \n",
      "---  ------                  --------------  -----  \n",
      " 0   Reservation-id          27499 non-null  int64  \n",
      " 1   Gender                  27499 non-null  object \n",
      " 2   Age                     27499 non-null  int64  \n",
      " 3   Ethnicity               27499 non-null  object \n",
      " 4   Educational_Level       27499 non-null  object \n",
      " 5   Income                  27499 non-null  object \n",
      " 6   Country_region          27499 non-null  object \n",
      " 7   Hotel_Type              27499 non-null  object \n",
      " 8   Expected_checkin        27499 non-null  object \n",
      " 9   Expected_checkout       27499 non-null  object \n",
      " 10  Booking_date            27499 non-null  object \n",
      " 11  Adults                  27499 non-null  int64  \n",
      " 12  Children                27499 non-null  int64  \n",
      " 13  Babies                  27499 non-null  float64\n",
      " 14  Meal_Type               27499 non-null  object \n",
      " 15  Visted_Previously       27499 non-null  object \n",
      " 16  Previous_Cancellations  27499 non-null  object \n",
      " 17  Deposit_type            27499 non-null  object \n",
      " 18  Booking_channel         27499 non-null  object \n",
      " 19  Required_Car_Parking    27499 non-null  object \n",
      " 20  Reservation_Status      27499 non-null  object \n",
      " 21  Use_Promotion           27499 non-null  object \n",
      " 22  Discount_Rate           27499 non-null  int64  \n",
      " 23  Room_Rate               27499 non-null  float64\n",
      "dtypes: float64(2), int64(5), object(17)\n",
      "memory usage: 5.0+ MB\n"
     ]
    }
   ],
   "source": [
    "df.info()"
   ]
  },
  {
   "cell_type": "markdown",
   "id": "07814041-294a-4854-b97b-4d6a02a603d4",
   "metadata": {},
   "source": [
    "###  Checking the number of unique values of each column"
   ]
  },
  {
   "cell_type": "code",
   "execution_count": 36,
   "id": "a18ee569-2803-4f00-b8bc-7eebcae37615",
   "metadata": {},
   "outputs": [
    {
     "data": {
      "text/plain": [
       "Reservation-id            27495\n",
       "Gender                        2\n",
       "Age                          53\n",
       "Ethnicity                     4\n",
       "Educational_Level             4\n",
       "Income                        4\n",
       "Country_region                4\n",
       "Hotel_Type                    3\n",
       "Expected_checkin            901\n",
       "Expected_checkout           929\n",
       "Booking_date               1133\n",
       "Adults                        5\n",
       "Children                      3\n",
       "Babies                        3\n",
       "Meal_Type                     3\n",
       "Visted_Previously             2\n",
       "Previous_Cancellations        2\n",
       "Deposit_type                  3\n",
       "Booking_channel               3\n",
       "Required_Car_Parking          2\n",
       "Reservation_Status            3\n",
       "Use_Promotion                 2\n",
       "Discount_Rate                 7\n",
       "Room_Rate                 21087\n",
       "dtype: int64"
      ]
     },
     "execution_count": 36,
     "metadata": {},
     "output_type": "execute_result"
    }
   ],
   "source": [
    "df.nunique()"
   ]
  },
  {
   "cell_type": "markdown",
   "id": "e40360b7-66a6-443e-a161-8d56cef19fef",
   "metadata": {},
   "source": [
    "###  Check statistics of data set"
   ]
  },
  {
   "cell_type": "code",
   "execution_count": 41,
   "id": "942977d0-bbff-4d15-8fa2-9c29ba68ab73",
   "metadata": {},
   "outputs": [
    {
     "data": {
      "text/html": [
       "<div>\n",
       "<style scoped>\n",
       "    .dataframe tbody tr th:only-of-type {\n",
       "        vertical-align: middle;\n",
       "    }\n",
       "\n",
       "    .dataframe tbody tr th {\n",
       "        vertical-align: top;\n",
       "    }\n",
       "\n",
       "    .dataframe thead th {\n",
       "        text-align: right;\n",
       "    }\n",
       "</style>\n",
       "<table border=\"1\" class=\"dataframe\">\n",
       "  <thead>\n",
       "    <tr style=\"text-align: right;\">\n",
       "      <th></th>\n",
       "      <th>Reservation-id</th>\n",
       "      <th>Age</th>\n",
       "      <th>Adults</th>\n",
       "      <th>Children</th>\n",
       "      <th>Babies</th>\n",
       "      <th>Discount_Rate</th>\n",
       "      <th>Room_Rate</th>\n",
       "    </tr>\n",
       "  </thead>\n",
       "  <tbody>\n",
       "    <tr>\n",
       "      <th>count</th>\n",
       "      <td>2.749900e+04</td>\n",
       "      <td>27499.000000</td>\n",
       "      <td>27499.000000</td>\n",
       "      <td>27499.000000</td>\n",
       "      <td>27499.000000</td>\n",
       "      <td>27499.000000</td>\n",
       "      <td>27499.000000</td>\n",
       "    </tr>\n",
       "    <tr>\n",
       "      <th>mean</th>\n",
       "      <td>5.016461e+07</td>\n",
       "      <td>43.977454</td>\n",
       "      <td>2.232118</td>\n",
       "      <td>1.743882</td>\n",
       "      <td>0.309466</td>\n",
       "      <td>8.293029</td>\n",
       "      <td>155.645134</td>\n",
       "    </tr>\n",
       "    <tr>\n",
       "      <th>std</th>\n",
       "      <td>2.886911e+07</td>\n",
       "      <td>15.303148</td>\n",
       "      <td>1.180172</td>\n",
       "      <td>0.721972</td>\n",
       "      <td>0.579941</td>\n",
       "      <td>7.841725</td>\n",
       "      <td>38.314829</td>\n",
       "    </tr>\n",
       "    <tr>\n",
       "      <th>min</th>\n",
       "      <td>3.154000e+03</td>\n",
       "      <td>18.000000</td>\n",
       "      <td>1.000000</td>\n",
       "      <td>1.000000</td>\n",
       "      <td>0.000000</td>\n",
       "      <td>0.000000</td>\n",
       "      <td>100.000000</td>\n",
       "    </tr>\n",
       "    <tr>\n",
       "      <th>25%</th>\n",
       "      <td>2.523943e+07</td>\n",
       "      <td>31.000000</td>\n",
       "      <td>1.000000</td>\n",
       "      <td>1.000000</td>\n",
       "      <td>0.000000</td>\n",
       "      <td>0.000000</td>\n",
       "      <td>124.000000</td>\n",
       "    </tr>\n",
       "    <tr>\n",
       "      <th>50%</th>\n",
       "      <td>5.014996e+07</td>\n",
       "      <td>44.000000</td>\n",
       "      <td>2.000000</td>\n",
       "      <td>2.000000</td>\n",
       "      <td>0.000000</td>\n",
       "      <td>5.000000</td>\n",
       "      <td>149.453032</td>\n",
       "    </tr>\n",
       "    <tr>\n",
       "      <th>75%</th>\n",
       "      <td>7.518288e+07</td>\n",
       "      <td>57.000000</td>\n",
       "      <td>3.000000</td>\n",
       "      <td>2.000000</td>\n",
       "      <td>0.000000</td>\n",
       "      <td>10.000000</td>\n",
       "      <td>181.000000</td>\n",
       "    </tr>\n",
       "    <tr>\n",
       "      <th>max</th>\n",
       "      <td>9.999900e+07</td>\n",
       "      <td>70.000000</td>\n",
       "      <td>5.000000</td>\n",
       "      <td>3.000000</td>\n",
       "      <td>2.000000</td>\n",
       "      <td>30.000000</td>\n",
       "      <td>250.000000</td>\n",
       "    </tr>\n",
       "  </tbody>\n",
       "</table>\n",
       "</div>"
      ],
      "text/plain": [
       "       Reservation-id           Age        Adults      Children        Babies  \\\n",
       "count    2.749900e+04  27499.000000  27499.000000  27499.000000  27499.000000   \n",
       "mean     5.016461e+07     43.977454      2.232118      1.743882      0.309466   \n",
       "std      2.886911e+07     15.303148      1.180172      0.721972      0.579941   \n",
       "min      3.154000e+03     18.000000      1.000000      1.000000      0.000000   \n",
       "25%      2.523943e+07     31.000000      1.000000      1.000000      0.000000   \n",
       "50%      5.014996e+07     44.000000      2.000000      2.000000      0.000000   \n",
       "75%      7.518288e+07     57.000000      3.000000      2.000000      0.000000   \n",
       "max      9.999900e+07     70.000000      5.000000      3.000000      2.000000   \n",
       "\n",
       "       Discount_Rate     Room_Rate  \n",
       "count   27499.000000  27499.000000  \n",
       "mean        8.293029    155.645134  \n",
       "std         7.841725     38.314829  \n",
       "min         0.000000    100.000000  \n",
       "25%         0.000000    124.000000  \n",
       "50%         5.000000    149.453032  \n",
       "75%        10.000000    181.000000  \n",
       "max        30.000000    250.000000  "
      ]
     },
     "execution_count": 41,
     "metadata": {},
     "output_type": "execute_result"
    }
   ],
   "source": [
    "df.describe()"
   ]
  },
  {
   "cell_type": "markdown",
   "id": "eebf2749-947c-4278-8c5d-c020d317c472",
   "metadata": {},
   "source": [
    "# 📊 Dataset Insights base on statistics\n",
    "\n",
    "## **1. General Information**\n",
    "- The dataset contains **27,499 reservations**.\n",
    "- The `Reservation-id` ranges from **3,154 to 99,999,000**, suggesting unique identifiers.\n",
    "\n",
    "## **2. Age Distribution**\n",
    "- **Average guest age:** **44 years** (± 15.3 years).\n",
    "- **Age range:** **18 to 70 years**.\n",
    "- **Interquartile Range (IQR):** **31 to 57 years** → Most guests are middle-aged.\n",
    "\n",
    "## **3. Group Composition (Adults, Children, Babies)**\n",
    "- **Adults per reservation:** \n",
    "  - Average: **~2.23** \n",
    "  - Max: **5**\n",
    "- **Children per reservation:**\n",
    "  - Average: **~1.74**\n",
    "  - Max: **3**\n",
    "- **Babies per reservation:**\n",
    "  - Average: **~0.31**\n",
    "  - Max: **2**\n",
    "- **Insight:** At least **75% of bookings have no babies**.\n",
    "\n",
    "## **4. Discount Rate**\n",
    "- **Average discount:** **8.29%** (± 7.84%).\n",
    "- **50% of bookings (median) have a discount of 5% or less**.\n",
    "- **25% of bookings have no discount at all**.\n",
    "- **Maximum discount:** **30%** (high promotional offers).\n",
    "\n",
    "## **5. Room Rates**\n",
    "- **Average room rate:** **$155.65** (± $38.31).\n",
    "- **Price range:** **$100 to $250**.\n",
    "- **Interquartile Range (IQR):** **$124 to $181**.\n",
    "\n",
    "## **6. Potential Business Insights**\n",
    "- **🎯 Age Targeting:** Most guests are between **31 and 57**, so marketing efforts should focus on this age group.\n",
    "- **👨‍👩‍👧‍👦 Group Size Optimization:** Most bookings are for **small families (2 adults, 1-2 children)** → Consider family packages.\n",
    "- **💰 Discount Strategy:** Since **many bookings receive no discount**, targeted promotions could increase bookings.\n",
    "- **🏨 Room Pricing:** With a **high standard deviation in room rates**, implementing tiered pricing based on room type may be effective.\n",
    "\n",
    "\n"
   ]
  },
  {
   "cell_type": "code",
   "execution_count": null,
   "id": "eae33ad6-c710-4c34-a852-92fbab1c887e",
   "metadata": {},
   "outputs": [],
   "source": []
  }
 ],
 "metadata": {
  "kernelspec": {
   "display_name": "Python [conda env:hotel_env]",
   "language": "python",
   "name": "conda-env-hotel_env-py"
  },
  "language_info": {
   "codemirror_mode": {
    "name": "ipython",
    "version": 3
   },
   "file_extension": ".py",
   "mimetype": "text/x-python",
   "name": "python",
   "nbconvert_exporter": "python",
   "pygments_lexer": "ipython3",
   "version": "3.9.21"
  }
 },
 "nbformat": 4,
 "nbformat_minor": 5
}
